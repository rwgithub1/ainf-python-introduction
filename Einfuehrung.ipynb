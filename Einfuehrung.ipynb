{
 "cells": [
  {
   "cell_type": "markdown",
   "id": "f693b04a-69ec-4869-814f-9f257143f2f8",
   "metadata": {},
   "source": [
    "# Ein Hello-World Beispiel"
   ]
  },
  {
   "cell_type": "markdown",
   "id": "ed91e518-b691-4880-8eff-38c78b9fb9f4",
   "metadata": {},
   "source": [
    "## Funktionsdefinition"
   ]
  },
  {
   "cell_type": "code",
   "execution_count": 1,
   "id": "124aac4f-d416-4fe6-a156-d82171805bf2",
   "metadata": {},
   "outputs": [],
   "source": [
    "def hello_world():\n",
    "    print(\"hello world!\\n\")"
   ]
  },
  {
   "cell_type": "markdown",
   "id": "38a5060d-3daf-4850-a588-9a5b4c352887",
   "metadata": {},
   "source": [
    "Aufrufen der Funktion"
   ]
  },
  {
   "cell_type": "code",
   "execution_count": 2,
   "id": "1acf35c4-89a0-414e-87d6-87e50cc90dab",
   "metadata": {},
   "outputs": [
    {
     "name": "stdout",
     "output_type": "stream",
     "text": [
      "hello world!\n",
      "\n"
     ]
    }
   ],
   "source": [
    "hello_world()"
   ]
  },
  {
   "cell_type": "code",
   "execution_count": null,
   "id": "d9101251-a307-4ae1-abf8-cf3335842547",
   "metadata": {},
   "outputs": [],
   "source": []
  }
 ],
 "metadata": {
  "kernelspec": {
   "display_name": "Python 3 (ipykernel)",
   "language": "python",
   "name": "python3"
  },
  "language_info": {
   "codemirror_mode": {
    "name": "ipython",
    "version": 3
   },
   "file_extension": ".py",
   "mimetype": "text/x-python",
   "name": "python",
   "nbconvert_exporter": "python",
   "pygments_lexer": "ipython3",
   "version": "3.10.4"
  }
 },
 "nbformat": 4,
 "nbformat_minor": 5
}
