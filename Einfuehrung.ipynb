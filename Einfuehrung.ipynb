{
 "cells": [
  {
   "cell_type": "markdown",
   "id": "f693b04a-69ec-4869-814f-9f257143f2f8",
   "metadata": {},
   "source": [
    "# Ein Hello-World Beispiel"
   ]
  },
  {
   "cell_type": "markdown",
   "id": "ed91e518-b691-4880-8eff-38c78b9fb9f4",
   "metadata": {},
   "source": [
    "## Funktionsdefinition"
   ]
  },
  {
   "cell_type": "code",
   "execution_count": 1,
   "id": "124aac4f-d416-4fe6-a156-d82171805bf2",
   "metadata": {},
   "outputs": [],
   "source": [
    "def hello_world():\n",
    "    print(\"hello world!\\n\")"
   ]
  },
  {
   "cell_type": "markdown",
   "id": "38a5060d-3daf-4850-a588-9a5b4c352887",
   "metadata": {},
   "source": [
    "Aufrufen der Funktion"
   ]
  },
  {
   "cell_type": "code",
   "execution_count": 2,
   "id": "1acf35c4-89a0-414e-87d6-87e50cc90dab",
   "metadata": {},
   "outputs": [
    {
     "name": "stdout",
     "output_type": "stream",
     "text": [
      "hello world!\n",
      "\n"
     ]
    }
   ],
   "source": [
    "hello_world()"
   ]
  },
  {
   "cell_type": "markdown",
   "id": "7f255224-02a1-494e-bf8a-c4d3989cd5d4",
   "metadata": {},
   "source": [
    "# Ein externes Python-Skript ausführen"
   ]
  },
  {
   "cell_type": "markdown",
   "id": "d1fbee5b-a9cf-4b3a-a243-e97b351cd088",
   "metadata": {},
   "source": [
    "Python-Skripte haben die Endung .py"
   ]
  },
  {
   "cell_type": "code",
   "execution_count": 3,
   "id": "d198eea2-3559-4204-9254-4a25182b8eb2",
   "metadata": {},
   "outputs": [
    {
     "name": "stdout",
     "output_type": "stream",
     "text": [
      "Ich wurde im Skript aufgerufen!\n"
     ]
    }
   ],
   "source": [
    "%run ./meinSkript.py"
   ]
  },
  {
   "cell_type": "markdown",
   "id": "6b96d5e1-77e9-417c-9549-ad73eca9ef23",
   "metadata": {},
   "source": [
    "# Mathe mit Python"
   ]
  },
  {
   "cell_type": "markdown",
   "id": "6cabaafa-d6de-46aa-807b-fb6f6f5b986c",
   "metadata": {},
   "source": [
    "Benötigte Bibliotheken importieren"
   ]
  },
  {
   "cell_type": "code",
   "execution_count": 4,
   "id": "0d665027-5f63-48ff-8efb-0470cb49038a",
   "metadata": {},
   "outputs": [],
   "source": [
    "import numpy as np\n",
    "import matplotlib.pyplot as plt"
   ]
  },
  {
   "cell_type": "markdown",
   "id": "be546641-036b-48ac-acb3-e17f1b92464a",
   "metadata": {},
   "source": [
    "Eine 2-dimensionale Matrix definieren"
   ]
  },
  {
   "cell_type": "code",
   "execution_count": 10,
   "id": "2aa062e7-06f7-47b8-9019-f7b881819c53",
   "metadata": {},
   "outputs": [],
   "source": [
    "A = np.array([[1,2,3],[4,5,6],[7,8,9]],dtype=np.float16)"
   ]
  },
  {
   "cell_type": "markdown",
   "id": "8603e419-c9b2-4015-b5ae-ed3e0c252c68",
   "metadata": {},
   "source": [
    "Informationen zu A bekommen mittels \"?\""
   ]
  },
  {
   "cell_type": "code",
   "execution_count": 11,
   "id": "2bf08a2b-50b0-4f2d-8f7b-d518c27f147f",
   "metadata": {},
   "outputs": [
    {
     "data": {
      "text/plain": [
       "\u001b[1;31mType:\u001b[0m        ndarray\n",
       "\u001b[1;31mString form:\u001b[0m\n",
       "[[1. 2. 3.]\n",
       " [4. 5. 6.]\n",
       " [7. 8. 9.]]\n",
       "\u001b[1;31mLength:\u001b[0m      3\n",
       "\u001b[1;31mFile:\u001b[0m        c:\\users\\rwilke\\documents\\pyvirtualenvs\\ainf\\lib\\site-packages\\numpy\\__init__.py\n",
       "\u001b[1;31mDocstring:\u001b[0m  \n",
       "ndarray(shape, dtype=float, buffer=None, offset=0,\n",
       "        strides=None, order=None)\n",
       "\n",
       "An array object represents a multidimensional, homogeneous array\n",
       "of fixed-size items.  An associated data-type object describes the\n",
       "format of each element in the array (its byte-order, how many bytes it\n",
       "occupies in memory, whether it is an integer, a floating point number,\n",
       "or something else, etc.)\n",
       "\n",
       "Arrays should be constructed using `array`, `zeros` or `empty` (refer\n",
       "to the See Also section below).  The parameters given here refer to\n",
       "a low-level method (`ndarray(...)`) for instantiating an array.\n",
       "\n",
       "For more information, refer to the `numpy` module and examine the\n",
       "methods and attributes of an array.\n",
       "\n",
       "Parameters\n",
       "----------\n",
       "(for the __new__ method; see Notes below)\n",
       "\n",
       "shape : tuple of ints\n",
       "    Shape of created array.\n",
       "dtype : data-type, optional\n",
       "    Any object that can be interpreted as a numpy data type.\n",
       "buffer : object exposing buffer interface, optional\n",
       "    Used to fill the array with data.\n",
       "offset : int, optional\n",
       "    Offset of array data in buffer.\n",
       "strides : tuple of ints, optional\n",
       "    Strides of data in memory.\n",
       "order : {'C', 'F'}, optional\n",
       "    Row-major (C-style) or column-major (Fortran-style) order.\n",
       "\n",
       "Attributes\n",
       "----------\n",
       "T : ndarray\n",
       "    Transpose of the array.\n",
       "data : buffer\n",
       "    The array's elements, in memory.\n",
       "dtype : dtype object\n",
       "    Describes the format of the elements in the array.\n",
       "flags : dict\n",
       "    Dictionary containing information related to memory use, e.g.,\n",
       "    'C_CONTIGUOUS', 'OWNDATA', 'WRITEABLE', etc.\n",
       "flat : numpy.flatiter object\n",
       "    Flattened version of the array as an iterator.  The iterator\n",
       "    allows assignments, e.g., ``x.flat = 3`` (See `ndarray.flat` for\n",
       "    assignment examples; TODO).\n",
       "imag : ndarray\n",
       "    Imaginary part of the array.\n",
       "real : ndarray\n",
       "    Real part of the array.\n",
       "size : int\n",
       "    Number of elements in the array.\n",
       "itemsize : int\n",
       "    The memory use of each array element in bytes.\n",
       "nbytes : int\n",
       "    The total number of bytes required to store the array data,\n",
       "    i.e., ``itemsize * size``.\n",
       "ndim : int\n",
       "    The array's number of dimensions.\n",
       "shape : tuple of ints\n",
       "    Shape of the array.\n",
       "strides : tuple of ints\n",
       "    The step-size required to move from one element to the next in\n",
       "    memory. For example, a contiguous ``(3, 4)`` array of type\n",
       "    ``int16`` in C-order has strides ``(8, 2)``.  This implies that\n",
       "    to move from element to element in memory requires jumps of 2 bytes.\n",
       "    To move from row-to-row, one needs to jump 8 bytes at a time\n",
       "    (``2 * 4``).\n",
       "ctypes : ctypes object\n",
       "    Class containing properties of the array needed for interaction\n",
       "    with ctypes.\n",
       "base : ndarray\n",
       "    If the array is a view into another array, that array is its `base`\n",
       "    (unless that array is also a view).  The `base` array is where the\n",
       "    array data is actually stored.\n",
       "\n",
       "See Also\n",
       "--------\n",
       "array : Construct an array.\n",
       "zeros : Create an array, each element of which is zero.\n",
       "empty : Create an array, but leave its allocated memory unchanged (i.e.,\n",
       "        it contains \"garbage\").\n",
       "dtype : Create a data-type.\n",
       "numpy.typing.NDArray : An ndarray alias :term:`generic <generic type>`\n",
       "                       w.r.t. its `dtype.type <numpy.dtype.type>`.\n",
       "\n",
       "Notes\n",
       "-----\n",
       "There are two modes of creating an array using ``__new__``:\n",
       "\n",
       "1. If `buffer` is None, then only `shape`, `dtype`, and `order`\n",
       "   are used.\n",
       "2. If `buffer` is an object exposing the buffer interface, then\n",
       "   all keywords are interpreted.\n",
       "\n",
       "No ``__init__`` method is needed because the array is fully initialized\n",
       "after the ``__new__`` method.\n",
       "\n",
       "Examples\n",
       "--------\n",
       "These examples illustrate the low-level `ndarray` constructor.  Refer\n",
       "to the `See Also` section above for easier ways of constructing an\n",
       "ndarray.\n",
       "\n",
       "First mode, `buffer` is None:\n",
       "\n",
       ">>> np.ndarray(shape=(2,2), dtype=float, order='F')\n",
       "array([[0.0e+000, 0.0e+000], # random\n",
       "       [     nan, 2.5e-323]])\n",
       "\n",
       "Second mode:\n",
       "\n",
       ">>> np.ndarray((2,), buffer=np.array([1,2,3]),\n",
       "...            offset=np.int_().itemsize,\n",
       "...            dtype=int) # offset = 1*itemsize, i.e. skip first element\n",
       "array([2, 3])\n"
      ]
     },
     "metadata": {},
     "output_type": "display_data"
    }
   ],
   "source": [
    "A?"
   ]
  },
  {
   "cell_type": "code",
   "execution_count": 16,
   "id": "c2b7103f-ed54-436b-90a4-05fc5fe77bb3",
   "metadata": {},
   "outputs": [
    {
     "data": {
      "text/plain": [
       "Text(0, 0.5, 'Zeilen')"
      ]
     },
     "execution_count": 16,
     "metadata": {},
     "output_type": "execute_result"
    },
    {
     "data": {
      "image/png": "[encoded data removed]",
      "text/plain": [
       "<Figure size 432x288 with 2 Axes>"
      ]
     },
     "metadata": {
      "needs_background": "light"
     },
     "output_type": "display_data"
    }
   ],
   "source": [
    "plt.figure(1)\n",
    "plt.clf()\n",
    "plt.imshow(A,cmap='gray')\n",
    "plt.colorbar()\n",
    "plt.xlabel('Spalten')\n",
    "plt.ylabel('Zeilen')"
   ]
  },
  {
   "cell_type": "code",
   "execution_count": 17,
   "id": "843464fe-20e7-41b5-8249-6c09d64b5eb6",
   "metadata": {},
   "outputs": [],
   "source": [
    "B = -A"
   ]
  },
  {
   "cell_type": "code",
   "execution_count": 18,
   "id": "51772f18-54d4-4e80-bbc0-3301085b9dae",
   "metadata": {},
   "outputs": [
    {
     "data": {
      "text/plain": [
       "Text(0, 0.5, 'Zeilen')"
      ]
     },
     "execution_count": 18,
     "metadata": {},
     "output_type": "execute_result"
    },
    {
     "data": {
      "image/png": "[encoded data removed]",
      "text/plain": [
       "<Figure size 432x288 with 2 Axes>"
      ]
     },
     "metadata": {
      "needs_background": "light"
     },
     "output_type": "display_data"
    }
   ],
   "source": [
    "plt.figure(1)\n",
    "plt.clf()\n",
    "plt.imshow(A + B,cmap='gray')\n",
    "plt.colorbar()\n",
    "plt.xlabel('Spalten')\n",
    "plt.ylabel('Zeilen')"
   ]
  },
  {
   "cell_type": "markdown",
   "id": "346fa973-df24-4e17-b52f-acbee713833b",
   "metadata": {},
   "source": [
    "# Vergleich mit MatLab-Syntax"
   ]
  },
  {
   "cell_type": "markdown",
   "id": "cbd7767b-a3a9-4140-9619-8a1a2ff7f493",
   "metadata": {},
   "source": [
    "Code-Gegenüberstellung\n",
    "http://mathesaurus.sourceforge.net/matlab-python-xref.pdf"
   ]
  },
  {
   "cell_type": "markdown",
   "id": "ad7889ea-d723-45a3-83ca-3d115e47fbdb",
   "metadata": {},
   "source": [
    "## Approximation eines Integrals\n",
    "$\\int^1_0 \\exp(-x^2)dx$"
   ]
  },
  {
   "cell_type": "markdown",
   "id": "08eaa8b7-b4f4-4b8d-b2a8-23a6156252ce",
   "metadata": {},
   "source": [
    "Matlab"
   ]
  },
  {
   "cell_type": "markdown",
   "id": "bba9da67-324f-4756-90f9-eb9d0daa993e",
   "metadata": {},
   "source": [
    "```matlab\n",
    "n = 100; a = 0.0; b = 1.0;\n",
    "h = (b-a)/n;\n",
    "area = 0.5*h*( exp(-aˆ2) + exp(-bˆ2) );\n",
    "\n",
    "for i=1:n-1\n",
    "    x = a+i*h;\n",
    "    area = area + h*exp(-xˆ2);\n",
    "end\n",
    "\n",
    "fprintf('Der Wert der Approximation ist  \\%f\\n', area)\n",
    "```"
   ]
  },
  {
   "cell_type": "markdown",
   "id": "563e0d26-cadd-431e-9a04-11105f83d2c9",
   "metadata": {},
   "source": [
    "Python"
   ]
  },
  {
   "cell_type": "markdown",
   "id": "aaaf814a-91fb-46b8-b4b0-4ee48e11edf3",
   "metadata": {},
   "source": [
    "```Python\n",
    "import math # Laden benötigter Bibliotheken\n",
    "n = 100; a = 0.0; b = 1.0 # definition von Variablen\n",
    "h = (b-a)/n # Rechnung mit Variablen\n",
    "area = 0.5*h*( math.exp(-a**2) + math.exp(-b**2) ) # Mathematischer Ausdruck\n",
    "\n",
    "for i in range(1,n): # For-Schleife\n",
    "    x = a+i*h\n",
    "    area = area + h*math.exp(-x**2)\n",
    "# Kein End\n",
    "print(\"Der Wert der Approximation ist \", area)\n",
    "```"
   ]
  },
  {
   "cell_type": "code",
   "execution_count": 20,
   "id": "0661f18c-7833-49c3-8756-f5ddbca7407e",
   "metadata": {},
   "outputs": [
    {
     "name": "stdout",
     "output_type": "stream",
     "text": [
      "Der Wert der Approximation ist  0.7468180014679701\n"
     ]
    }
   ],
   "source": [
    "import math\n",
    "n = 100; a = 0.0; b = 1.0\n",
    "h = (b-a)/n\n",
    "area = 0.5*h*( math.exp(-a**2) + math.exp(-b**2) )\n",
    "\n",
    "for i in range(1,n):\n",
    "    x = a+i*h\n",
    "    area = area + h*math.exp(-x**2)\n",
    "\n",
    "print(\"Der Wert der Approximation ist \", area)"
   ]
  },
  {
   "cell_type": "code",
   "execution_count": 30,
   "id": "49b40129-86dd-4d6c-8789-f38f2e0f5d13",
   "metadata": {},
   "outputs": [
    {
     "data": {
      "image/png": "[encoded data removed]",
      "text/plain": [
       "<Figure size 432x288 with 1 Axes>"
      ]
     },
     "metadata": {
      "needs_background": "light"
     },
     "output_type": "display_data"
    }
   ],
   "source": [
    "x = np.linspace(-3,3,100)\n",
    "y = np.exp(-x**2)\n",
    "plt.figure(3)\n",
    "plt.clf()\n",
    "plt.plot(x,y,'-b')\n",
    "plt.grid()\n",
    "plt.title('Gauss\\'sche Glockenkurve');"
   ]
  },
  {
   "cell_type": "code",
   "execution_count": 37,
   "id": "705718c3-d741-4802-bf44-7c10ec967e2b",
   "metadata": {},
   "outputs": [
    {
     "name": "stdout",
     "output_type": "stream",
     "text": [
      "[0.  0.2 0.4 0.6 0.8]\n"
     ]
    }
   ],
   "source": [
    "x = np.arange(0,1,0.2) # Ähnlich zu Matlab 0:0.2:1\n",
    "print(x)"
   ]
  },
  {
   "cell_type": "code",
   "execution_count": 34,
   "id": "34425a20-55f5-4714-9c6a-8dcf5168bc0f",
   "metadata": {},
   "outputs": [
    {
     "data": {
      "text/plain": [
       "\u001b[1;31mDocstring:\u001b[0m\n",
       "arange([start,] stop[, step,], dtype=None, *, like=None)\n",
       "\n",
       "Return evenly spaced values within a given interval.\n",
       "\n",
       "Values are generated within the half-open interval ``[start, stop)``\n",
       "(in other words, the interval including `start` but excluding `stop`).\n",
       "For integer arguments the function is equivalent to the Python built-in\n",
       "`range` function, but returns an ndarray rather than a list.\n",
       "\n",
       "When using a non-integer step, such as 0.1, it is often better to use\n",
       "`numpy.linspace`. See the warnings section below for more information.\n",
       "\n",
       "Parameters\n",
       "----------\n",
       "start : integer or real, optional\n",
       "    Start of interval.  The interval includes this value.  The default\n",
       "    start value is 0.\n",
       "stop : integer or real\n",
       "    End of interval.  The interval does not include this value, except\n",
       "    in some cases where `step` is not an integer and floating point\n",
       "    round-off affects the length of `out`.\n",
       "step : integer or real, optional\n",
       "    Spacing between values.  For any output `out`, this is the distance\n",
       "    between two adjacent values, ``out[i+1] - out[i]``.  The default\n",
       "    step size is 1.  If `step` is specified as a position argument,\n",
       "    `start` must also be given.\n",
       "dtype : dtype\n",
       "    The type of the output array.  If `dtype` is not given, infer the data\n",
       "    type from the other input arguments.\n",
       "like : array_like\n",
       "    Reference object to allow the creation of arrays which are not\n",
       "    NumPy arrays. If an array-like passed in as ``like`` supports\n",
       "    the ``__array_function__`` protocol, the result will be defined\n",
       "    by it. In this case, it ensures the creation of an array object\n",
       "    compatible with that passed in via this argument.\n",
       "\n",
       "    .. versionadded:: 1.20.0\n",
       "\n",
       "Returns\n",
       "-------\n",
       "arange : ndarray\n",
       "    Array of evenly spaced values.\n",
       "\n",
       "    For floating point arguments, the length of the result is\n",
       "    ``ceil((stop - start)/step)``.  Because of floating point overflow,\n",
       "    this rule may result in the last element of `out` being greater\n",
       "    than `stop`.\n",
       "\n",
       "Warnings\n",
       "--------\n",
       "The length of the output might not be numerically stable.\n",
       "\n",
       "Another stability issue is due to the internal implementation of\n",
       "`numpy.arange`.\n",
       "The actual step value used to populate the array is\n",
       "``dtype(start + step) - dtype(start)`` and not `step`. Precision loss\n",
       "can occur here, due to casting or due to using floating points when\n",
       "`start` is much larger than `step`. This can lead to unexpected\n",
       "behaviour. For example::\n",
       "\n",
       "  >>> np.arange(0, 5, 0.5, dtype=int)\n",
       "  array([0, 0, 0, 0, 0, 0, 0, 0, 0, 0])\n",
       "  >>> np.arange(-3, 3, 0.5, dtype=int)\n",
       "  array([-3, -2, -1,  0,  1,  2,  3,  4,  5,  6,  7,  8])\n",
       "\n",
       "In such cases, the use of `numpy.linspace` should be preferred.\n",
       "\n",
       "See Also\n",
       "--------\n",
       "numpy.linspace : Evenly spaced numbers with careful handling of endpoints.\n",
       "numpy.ogrid: Arrays of evenly spaced numbers in N-dimensions.\n",
       "numpy.mgrid: Grid-shaped arrays of evenly spaced numbers in N-dimensions.\n",
       "\n",
       "Examples\n",
       "--------\n",
       ">>> np.arange(3)\n",
       "array([0, 1, 2])\n",
       ">>> np.arange(3.0)\n",
       "array([ 0.,  1.,  2.])\n",
       ">>> np.arange(3,7)\n",
       "array([3, 4, 5, 6])\n",
       ">>> np.arange(3,7,2)\n",
       "array([3, 5])\n",
       "\u001b[1;31mType:\u001b[0m      builtin_function_or_method\n"
      ]
     },
     "metadata": {},
     "output_type": "display_data"
    }
   ],
   "source": [
    "np.arange?"
   ]
  },
  {
   "cell_type": "markdown",
   "id": "6aa2af6c-fd36-47fc-a20e-3827ab5ba76c",
   "metadata": {},
   "source": [
    "### So gehts ..."
   ]
  },
  {
   "cell_type": "code",
   "execution_count": 38,
   "id": "472cf16c-6096-42e5-aa74-ed84a7d7ee1e",
   "metadata": {},
   "outputs": [
    {
     "name": "stdout",
     "output_type": "stream",
     "text": [
      "[0.  0.2 0.4 0.6 0.8 1. ]\n"
     ]
    }
   ],
   "source": [
    "dx = 0.2\n",
    "x = np.arange(0,1+dx,dx) # Ähnlich zu Matlab 0:0.2:1\n",
    "print(x)"
   ]
  },
  {
   "cell_type": "markdown",
   "id": "f8a32ece-b92c-4765-bf2b-47f4188808bf",
   "metadata": {},
   "source": [
    "# Listen\n",
    "Notation wie Vektor [ ... ], aber nicht nur Zahlen, sondern alles kann rein."
   ]
  },
  {
   "cell_type": "code",
   "execution_count": 42,
   "id": "05f9e32b-3558-4446-8c1f-bce1a5b09c1c",
   "metadata": {},
   "outputs": [
    {
     "name": "stdout",
     "output_type": "stream",
     "text": [
      "[11, 2, 24]\n",
      "[2, 11, 24]\n"
     ]
    }
   ],
   "source": [
    "meine_liste = [11,2,24]\n",
    "print(meine_liste)\n",
    "meine_liste.sort()\n",
    "print(meine_liste)"
   ]
  },
  {
   "cell_type": "markdown",
   "id": "fd0447bb-7288-4723-85e5-aaa5741523de",
   "metadata": {},
   "source": [
    "# Unterschiede zu Matlab"
   ]
  },
  {
   "cell_type": "markdown",
   "id": "f638abfc-9556-4cc3-88db-1f86b4b8d7d2",
   "metadata": {},
   "source": [
    "Indizierung mit 0"
   ]
  },
  {
   "cell_type": "code",
   "execution_count": 45,
   "id": "098e8556-42b9-4e3b-b847-570916d06885",
   "metadata": {},
   "outputs": [
    {
     "name": "stdout",
     "output_type": "stream",
     "text": [
      "2\n",
      "11\n",
      "24\n"
     ]
    }
   ],
   "source": [
    "print(meine_liste[0])\n",
    "print(meine_liste[1])\n",
    "print(meine_liste[2])"
   ]
  },
  {
   "cell_type": "markdown",
   "id": "e13ba5ae-6f9f-4c7e-b600-9c5baf9b0a51",
   "metadata": {},
   "source": [
    "Call-by-Reference"
   ]
  },
  {
   "cell_type": "code",
   "execution_count": 46,
   "id": "18227712-6e4b-4303-94e2-4729993bb5df",
   "metadata": {},
   "outputs": [
    {
     "name": "stdout",
     "output_type": "stream",
     "text": [
      "[2, 11, 24]\n",
      "[2, 736, 24]\n",
      "[2, 736, 24]\n"
     ]
    }
   ],
   "source": [
    "meine_liste_als_referenz = meine_liste\n",
    "print(meine_liste_als_referenz)\n",
    "meine_liste_als_referenz[1] = 736\n",
    "print(meine_liste_als_referenz)\n",
    "print(meine_liste)"
   ]
  },
  {
   "cell_type": "markdown",
   "id": "4d3495dd-980c-488d-946f-475d7ec71704",
   "metadata": {},
   "source": [
    "# Vektoren und Matrizen"
   ]
  },
  {
   "cell_type": "code",
   "execution_count": 47,
   "id": "1115042a-b190-4c81-aeee-cf8bbd0f92d7",
   "metadata": {},
   "outputs": [
    {
     "name": "stdout",
     "output_type": "stream",
     "text": [
      "[[1. 2. 3.]\n",
      " [4. 5. 6.]\n",
      " [7. 8. 9.]]\n"
     ]
    }
   ],
   "source": [
    "A = np.array([[1,2,3],[4,5,6],[7,8,9]],dtype=np.float16)\n",
    "print(A)"
   ]
  },
  {
   "cell_type": "markdown",
   "id": "7d337a58-5fe7-4718-bbf7-df19c4e3ca7e",
   "metadata": {},
   "source": [
    "## Slicing"
   ]
  },
  {
   "cell_type": "markdown",
   "id": "f6de4849-9c6d-4ab7-a99a-3f46ef2c9c72",
   "metadata": {},
   "source": [
    "### Abfragen eines Eintrages"
   ]
  },
  {
   "cell_type": "code",
   "execution_count": 48,
   "id": "41f6cbff-3264-496a-a2f4-06d6b6b45e5e",
   "metadata": {},
   "outputs": [
    {
     "data": {
      "text/plain": [
       "4.0"
      ]
     },
     "execution_count": 48,
     "metadata": {},
     "output_type": "execute_result"
    }
   ],
   "source": [
    "A[1,0]"
   ]
  },
  {
   "cell_type": "markdown",
   "id": "21ccdb65-c8eb-4878-829e-7531064fcf1e",
   "metadata": {},
   "source": [
    "### Abfragen einer Zeile"
   ]
  },
  {
   "cell_type": "code",
   "execution_count": 52,
   "id": "6c311400-a04c-4964-a433-a00d0786a8b7",
   "metadata": {},
   "outputs": [
    {
     "data": {
      "text/plain": [
       "array([4., 5., 6.], dtype=float16)"
      ]
     },
     "execution_count": 52,
     "metadata": {},
     "output_type": "execute_result"
    }
   ],
   "source": [
    "A[1,:]"
   ]
  },
  {
   "cell_type": "markdown",
   "id": "6ef62978-152c-4c2b-8933-694e5b4eecbf",
   "metadata": {},
   "source": [
    "### Abfragen von Blöcken"
   ]
  },
  {
   "cell_type": "code",
   "execution_count": 53,
   "id": "a29a7731-4954-48c2-8993-6203e0b24002",
   "metadata": {},
   "outputs": [
    {
     "data": {
      "text/plain": [
       "array([[4., 5.],\n",
       "       [7., 8.]], dtype=float16)"
      ]
     },
     "execution_count": 53,
     "metadata": {},
     "output_type": "execute_result"
    }
   ],
   "source": [
    "A[1:3,0:2]"
   ]
  },
  {
   "cell_type": "markdown",
   "id": "e2f95f54-aedd-45b9-a060-041d1cbd749a",
   "metadata": {},
   "source": [
    "### Abfragen mehrerer Zeilen"
   ]
  },
  {
   "cell_type": "code",
   "execution_count": 54,
   "id": "1aeddae6-034c-4ae0-81ab-3657152bef8a",
   "metadata": {},
   "outputs": [
    {
     "data": {
      "text/plain": [
       "array([[1., 2., 3.],\n",
       "       [7., 8., 9.]], dtype=float16)"
      ]
     },
     "execution_count": 54,
     "metadata": {},
     "output_type": "execute_result"
    }
   ],
   "source": [
    "A[(0,2),:]"
   ]
  },
  {
   "cell_type": "code",
   "execution_count": null,
   "id": "b85026e0-d379-4546-b547-0aed30b61985",
   "metadata": {},
   "outputs": [],
   "source": []
  }
 ],
 "metadata": {
  "kernelspec": {
   "display_name": "Python 3 (ipykernel)",
   "language": "python",
   "name": "python3"
  },
  "language_info": {
   "codemirror_mode": {
    "name": "ipython",
    "version": 3
   },
   "file_extension": ".py",
   "mimetype": "text/x-python",
   "name": "python",
   "nbconvert_exporter": "python",
   "pygments_lexer": "ipython3",
   "version": "3.10.4"
  }
 },
 "nbformat": 4,
 "nbformat_minor": 5
}
